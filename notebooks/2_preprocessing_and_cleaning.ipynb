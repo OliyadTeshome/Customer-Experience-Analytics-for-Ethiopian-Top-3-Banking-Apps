{
 "cells": [
  {
   "cell_type": "markdown",
   "id": "1df121d4",
   "metadata": {},
   "source": [
    "# 1. Setup and Imports"
   ]
  },
  {
   "cell_type": "code",
   "execution_count": 1,
   "id": "28fe1f47",
   "metadata": {},
   "outputs": [],
   "source": [
    "import os\n",
    "import sys\n",
    "import pandas as pd\n",
    "\n",
    "# Add src/ to path\n",
    "sys.path.append(os.path.abspath(os.path.join(os.getcwd(), '..', 'src')))\n",
    "\n",
    "from utils import log_step"
   ]
  },
  {
   "cell_type": "markdown",
   "id": "11b5f6b4",
   "metadata": {},
   "source": [
    "# 2. Load Raw Data (from CSV or Oracle)"
   ]
  },
  {
   "cell_type": "code",
   "execution_count": 2,
   "id": "b57914db",
   "metadata": {},
   "outputs": [
    {
     "name": "stdout",
     "output_type": "stream",
     "text": [
      "[2025-06-07 16:45:53] 🔹 Loading scraped reviews...\n"
     ]
    },
    {
     "data": {
      "text/html": [
       "<div>\n",
       "<style scoped>\n",
       "    .dataframe tbody tr th:only-of-type {\n",
       "        vertical-align: middle;\n",
       "    }\n",
       "\n",
       "    .dataframe tbody tr th {\n",
       "        vertical-align: top;\n",
       "    }\n",
       "\n",
       "    .dataframe thead th {\n",
       "        text-align: right;\n",
       "    }\n",
       "</style>\n",
       "<table border=\"1\" class=\"dataframe\">\n",
       "  <thead>\n",
       "    <tr style=\"text-align: right;\">\n",
       "      <th></th>\n",
       "      <th>review</th>\n",
       "      <th>rating</th>\n",
       "      <th>review_date</th>\n",
       "      <th>app_name</th>\n",
       "    </tr>\n",
       "  </thead>\n",
       "  <tbody>\n",
       "    <tr>\n",
       "      <th>0</th>\n",
       "      <td>\"Why don’t your ATMs support account-to-accoun...</td>\n",
       "      <td>4</td>\n",
       "      <td>2025-06-06</td>\n",
       "      <td>Commercial Bank of Ethiopia</td>\n",
       "    </tr>\n",
       "    <tr>\n",
       "      <th>1</th>\n",
       "      <td>what is this app problem???</td>\n",
       "      <td>1</td>\n",
       "      <td>2025-06-05</td>\n",
       "      <td>Commercial Bank of Ethiopia</td>\n",
       "    </tr>\n",
       "    <tr>\n",
       "      <th>2</th>\n",
       "      <td>the app is proactive and a good connections.</td>\n",
       "      <td>5</td>\n",
       "      <td>2025-06-05</td>\n",
       "      <td>Commercial Bank of Ethiopia</td>\n",
       "    </tr>\n",
       "    <tr>\n",
       "      <th>3</th>\n",
       "      <td>I cannot send to cbebirr app. through this app.</td>\n",
       "      <td>3</td>\n",
       "      <td>2025-06-05</td>\n",
       "      <td>Commercial Bank of Ethiopia</td>\n",
       "    </tr>\n",
       "    <tr>\n",
       "      <th>4</th>\n",
       "      <td>good</td>\n",
       "      <td>4</td>\n",
       "      <td>2025-06-05</td>\n",
       "      <td>Commercial Bank of Ethiopia</td>\n",
       "    </tr>\n",
       "  </tbody>\n",
       "</table>\n",
       "</div>"
      ],
      "text/plain": [
       "                                              review  rating review_date  \\\n",
       "0  \"Why don’t your ATMs support account-to-accoun...       4  2025-06-06   \n",
       "1                        what is this app problem???       1  2025-06-05   \n",
       "2       the app is proactive and a good connections.       5  2025-06-05   \n",
       "3    I cannot send to cbebirr app. through this app.       3  2025-06-05   \n",
       "4                                               good       4  2025-06-05   \n",
       "\n",
       "                      app_name  \n",
       "0  Commercial Bank of Ethiopia  \n",
       "1  Commercial Bank of Ethiopia  \n",
       "2  Commercial Bank of Ethiopia  \n",
       "3  Commercial Bank of Ethiopia  \n",
       "4  Commercial Bank of Ethiopia  "
      ]
     },
     "execution_count": 2,
     "metadata": {},
     "output_type": "execute_result"
    }
   ],
   "source": [
    "log_step(\"Loading scraped reviews...\")\n",
    "df_raw = pd.read_csv(\"../data/bank_reviews_raw.csv\")\n",
    "df_raw = df_raw.rename(columns={\"date\": \"review_date\"})\n",
    "df_raw.head()"
   ]
  },
  {
   "cell_type": "markdown",
   "id": "dd3ceb18",
   "metadata": {},
   "source": [
    "# 3. Remove Duplicates and Nulls"
   ]
  },
  {
   "cell_type": "code",
   "execution_count": 3,
   "id": "b0a702b3",
   "metadata": {},
   "outputs": [
    {
     "name": "stdout",
     "output_type": "stream",
     "text": [
      "[2025-06-07 16:45:53] 🔹 Removing duplicates and missing values...\n",
      "[2025-06-07 16:45:53] 🔹 Removed 182 rows\n"
     ]
    },
    {
     "name": "stderr",
     "output_type": "stream",
     "text": [
      "C:\\Users\\Admin\\AppData\\Local\\Temp\\ipykernel_23336\\856229454.py:5: SettingWithCopyWarning: \n",
      "A value is trying to be set on a copy of a slice from a DataFrame\n",
      "\n",
      "See the caveats in the documentation: https://pandas.pydata.org/pandas-docs/stable/user_guide/indexing.html#returning-a-view-versus-a-copy\n",
      "  df_cleaned.dropna(subset=[\"review\", \"rating\", \"review_date\"], inplace=True)\n"
     ]
    }
   ],
   "source": [
    "log_step(\"Removing duplicates and missing values...\")\n",
    "initial_shape = df_raw.shape\n",
    "\n",
    "df_cleaned = df_raw.drop_duplicates(subset=[\"review\", \"app_name\"])\n",
    "df_cleaned.dropna(subset=[\"review\", \"rating\", \"review_date\"], inplace=True)\n",
    "\n",
    "log_step(f\"Removed {initial_shape[0] - df_cleaned.shape[0]} rows\")"
   ]
  },
  {
   "cell_type": "markdown",
   "id": "276ec870",
   "metadata": {},
   "source": [
    "# 4. Normalize Date Format"
   ]
  },
  {
   "cell_type": "code",
   "execution_count": 4,
   "id": "29c6dc63",
   "metadata": {},
   "outputs": [
    {
     "name": "stdout",
     "output_type": "stream",
     "text": [
      "[2025-06-07 16:45:53] 🔹 Normalizing date format...\n"
     ]
    },
    {
     "name": "stderr",
     "output_type": "stream",
     "text": [
      "C:\\Users\\Admin\\AppData\\Local\\Temp\\ipykernel_23336\\3977606915.py:2: SettingWithCopyWarning: \n",
      "A value is trying to be set on a copy of a slice from a DataFrame.\n",
      "Try using .loc[row_indexer,col_indexer] = value instead\n",
      "\n",
      "See the caveats in the documentation: https://pandas.pydata.org/pandas-docs/stable/user_guide/indexing.html#returning-a-view-versus-a-copy\n",
      "  df_cleaned[\"review_date\"] = pd.to_datetime(df_cleaned[\"review_date\"]).dt.date  # YYYY-MM-DD\n"
     ]
    }
   ],
   "source": [
    "log_step(\"Normalizing date format...\")\n",
    "df_cleaned[\"review_date\"] = pd.to_datetime(df_cleaned[\"review_date\"]).dt.date  # YYYY-MM-DD"
   ]
  },
  {
   "cell_type": "markdown",
   "id": "61b84e94",
   "metadata": {},
   "source": [
    "# 5. Validate Data"
   ]
  },
  {
   "cell_type": "code",
   "execution_count": 5,
   "id": "248a0b8d",
   "metadata": {},
   "outputs": [
    {
     "name": "stdout",
     "output_type": "stream",
     "text": [
      "[2025-06-07 16:45:53] 🔹 Summary of cleaned data:\n",
      "app_name\n",
      "Commercial Bank of Ethiopia    367\n",
      "Dashen Bank                    367\n",
      "BoA Mobile                     351\n",
      "Name: count, dtype: int64\n",
      "rating\n",
      "5    667\n",
      "1    244\n",
      "4     75\n",
      "3     56\n",
      "2     43\n",
      "Name: count, dtype: int64\n"
     ]
    }
   ],
   "source": [
    "log_step(\"Summary of cleaned data:\")\n",
    "print(df_cleaned[\"app_name\"].value_counts())\n",
    "print(df_cleaned[\"rating\"].value_counts())"
   ]
  },
  {
   "cell_type": "markdown",
   "id": "0034755d",
   "metadata": {},
   "source": [
    "# 6. Save Cleaned Data"
   ]
  },
  {
   "cell_type": "code",
   "execution_count": 6,
   "id": "9367c412",
   "metadata": {},
   "outputs": [
    {
     "name": "stdout",
     "output_type": "stream",
     "text": [
      "[2025-06-07 16:45:53] 🔹 Saving cleaned data to CSV...\n"
     ]
    }
   ],
   "source": [
    "log_step(\"Saving cleaned data to CSV...\")\n",
    "df_cleaned.to_csv(\"../data/bank_reviews_cleaned.csv\", index=False)"
   ]
  },
  {
   "cell_type": "markdown",
   "id": "60bfff54",
   "metadata": {},
   "source": [
    "# Save DataFrame to Oracle"
   ]
  },
  {
   "cell_type": "code",
   "execution_count": 7,
   "id": "4b7a12d8",
   "metadata": {},
   "outputs": [
    {
     "name": "stdout",
     "output_type": "stream",
     "text": [
      "Data inserted successfully into 'bank_reviews_cleaned'.\n"
     ]
    }
   ],
   "source": [
    "from database import get_engine, insert_dataframe\n",
    "\n",
    "engine = get_engine()\n",
    "\n",
    "insert_dataframe(df_cleaned, table_name='bank_reviews_cleaned', engine=engine)"
   ]
  }
 ],
 "metadata": {
  "kernelspec": {
   "display_name": ".venv",
   "language": "python",
   "name": "python3"
  },
  "language_info": {
   "codemirror_mode": {
    "name": "ipython",
    "version": 3
   },
   "file_extension": ".py",
   "mimetype": "text/x-python",
   "name": "python",
   "nbconvert_exporter": "python",
   "pygments_lexer": "ipython3",
   "version": "3.13.3"
  }
 },
 "nbformat": 4,
 "nbformat_minor": 5
}
