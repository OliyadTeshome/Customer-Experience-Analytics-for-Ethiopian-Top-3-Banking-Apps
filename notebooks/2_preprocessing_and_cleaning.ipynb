{
 "cells": [
  {
   "cell_type": "markdown",
   "id": "1df121d4",
   "metadata": {},
   "source": [
    "# 1. Setup and Imports"
   ]
  },
  {
   "cell_type": "code",
   "execution_count": 1,
   "id": "28fe1f47",
   "metadata": {},
   "outputs": [],
   "source": [
    "import os\n",
    "import sys\n",
    "import pandas as pd\n",
    "\n",
    "# Add src/ to path\n",
    "sys.path.append(os.path.abspath(os.path.join(os.getcwd(), '..', 'src')))\n",
    "\n",
    "from utils import log_step"
   ]
  },
  {
   "cell_type": "markdown",
   "id": "11b5f6b4",
   "metadata": {},
   "source": [
    "# 2. Load Raw Data (from CSV or Oracle)"
   ]
  },
  {
   "cell_type": "code",
   "execution_count": null,
   "id": "b57914db",
   "metadata": {},
   "outputs": [],
   "source": [
    "log_step(\"Loading scraped reviews...\")\n",
    "df_raw = pd.read_csv(\"../data/bank_reviews_raw.csv\")\n",
    "df_raw = df_raw.rename(columns={\"date\": \"review_date\"})\n",
    "df_raw.head()"
   ]
  },
  {
   "cell_type": "markdown",
   "id": "dd3ceb18",
   "metadata": {},
   "source": [
    "# 3. Remove Duplicates and Nulls"
   ]
  },
  {
   "cell_type": "code",
   "execution_count": null,
   "id": "b0a702b3",
   "metadata": {},
   "outputs": [],
   "source": [
    "log_step(\"Removing duplicates and missing values...\")\n",
    "initial_shape = df_raw.shape\n",
    "\n",
    "df_cleaned = df_raw.drop_duplicates(subset=[\"review\", \"app_name\"])\n",
    "df_cleaned.dropna(subset=[\"review\", \"rating\", \"review_date\"], inplace=True)\n",
    "\n",
    "log_step(f\"Removed {initial_shape[0] - df_cleaned.shape[0]} rows\")"
   ]
  },
  {
   "cell_type": "markdown",
   "id": "276ec870",
   "metadata": {},
   "source": [
    "# 4. Normalize Date Format"
   ]
  },
  {
   "cell_type": "code",
   "execution_count": null,
   "id": "29c6dc63",
   "metadata": {},
   "outputs": [],
   "source": [
    "log_step(\"Normalizing date format...\")\n",
    "df_cleaned[\"review_date\"] = pd.to_datetime(df_cleaned[\"review_date\"]).dt.date  # YYYY-MM-DD"
   ]
  },
  {
   "cell_type": "code",
   "execution_count": null,
   "id": "320a5200",
   "metadata": {},
   "outputs": [],
   "source": [
    "# Import translation utility\n",
    "from translation_utils import translate_reviews\n",
    "\n",
    "# Translate reviews\n",
    "df_cleaned = translate_reviews(df_cleaned)\n",
    "\n",
    "# Display sample translations\n",
    "print(\"\\nSample translations:\")\n",
    "sample_translations = df_cleaned[['review', 'review_translated']].head(5)\n",
    "display(sample_translations)"
   ]
  },
  {
   "cell_type": "markdown",
   "id": "61b84e94",
   "metadata": {},
   "source": [
    "# 5. Validate Data"
   ]
  },
  {
   "cell_type": "code",
   "execution_count": null,
   "id": "248a0b8d",
   "metadata": {},
   "outputs": [],
   "source": [
    "log_step(\"Summary of cleaned data:\")\n",
    "print(df_cleaned[\"app_name\"].value_counts())\n",
    "print(df_cleaned[\"rating\"].value_counts())"
   ]
  },
  {
   "cell_type": "markdown",
   "id": "0034755d",
   "metadata": {},
   "source": [
    "# 6. Save Cleaned Data"
   ]
  },
  {
   "cell_type": "code",
   "execution_count": null,
   "id": "9367c412",
   "metadata": {},
   "outputs": [],
   "source": [
    "log_step(\"Saving cleaned data to CSV...\")\n",
    "df_cleaned.to_csv(\"../data/bank_reviews_cleaned.csv\", index=False)"
   ]
  },
  {
   "cell_type": "markdown",
   "id": "60bfff54",
   "metadata": {},
   "source": [
    "# Save DataFrame to Oracle"
   ]
  },
  {
   "cell_type": "code",
   "execution_count": null,
   "id": "4b7a12d8",
   "metadata": {},
   "outputs": [],
   "source": [
    "from database import get_engine, insert_dataframe\n",
    "\n",
    "engine = get_engine()\n",
    "\n",
    "insert_dataframe(df_cleaned, table_name='bank_reviews_cleaned', engine=engine)"
   ]
  }
 ],
 "metadata": {
  "kernelspec": {
   "display_name": ".venv",
   "language": "python",
   "name": "python3"
  },
  "language_info": {
   "codemirror_mode": {
    "name": "ipython",
    "version": 3
   },
   "file_extension": ".py",
   "mimetype": "text/x-python",
   "name": "python",
   "nbconvert_exporter": "python",
   "pygments_lexer": "ipython3",
   "version": "3.13.3"
  }
 },
 "nbformat": 4,
 "nbformat_minor": 5
}
